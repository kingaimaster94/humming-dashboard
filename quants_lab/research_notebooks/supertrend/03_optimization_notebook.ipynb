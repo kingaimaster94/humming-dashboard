{
 "cells": [
  {
   "cell_type": "code",
   "execution_count": null,
   "outputs": [],
   "source": [
    "import os\n",
    "import sys\n",
    "\n",
    "root_path = os.path.abspath(os.path.join(os.getcwd(), '../../..'))\n",
    "sys.path.append(root_path)"
   ],
   "metadata": {
    "collapsed": false
   }
  },
  {
   "cell_type": "code",
   "execution_count": null,
   "outputs": [],
   "source": [
    "import traceback\n",
    "from decimal import Decimal\n",
    "import pandas_ta as ta  # noqa: F401\n",
    "\n",
    "from hummingbot.core.data_type.common import PositionMode, TradeType, OrderType\n",
    "from hummingbot.data_feed.candles_feed.candles_factory import CandlesConfig\n",
    "from hummingbot.smart_components.strategy_frameworks.data_types import TripleBarrierConf, OrderLevel\n",
    "from hummingbot.smart_components.strategy_frameworks.directional_trading import DirectionalTradingBacktestingEngine\n",
    "from hummingbot.smart_components.utils.config_encoder_decoder import ConfigEncoderDecoder\n",
    "from optuna import TrialPruned\n",
    "from hummingbot.smart_components.utils.order_level_builder import OrderLevelBuilder\n",
    "\n",
    "from quants_lab.controllers.supertrend import SuperTrend, SuperTrendConfig\n",
    "\n",
    "# To run an optimization with optuna we need to define the objective function that will be executed for each trial\n",
    "\n",
    "def objective(trial):\n",
    "    try:\n",
    "        # Market configuration\n",
    "        exchange = \"binance_perpetual\"\n",
    "        trading_pair = \"WLD-USDT\"\n",
    "        interval = \"3m\"\n",
    "\n",
    "        # Account configuration\n",
    "        initial_portfolio_usd = 1000\n",
    "        order_amount = Decimal(\"25\")\n",
    "        n_levels = 1\n",
    "        leverage = 20\n",
    "        trade_cost = 0.0006\n",
    "\n",
    "        # Backtest period\n",
    "        start = \"2023-01-01\"\n",
    "        end = \"2024-01-02\"\n",
    "\n",
    "        # Triple barrier configuration\n",
    "        stop_loss = trial.suggest_float('stop_loss', 0.01, 0.02, step=0.01)\n",
    "        take_profit = trial.suggest_float('take_profit', 0.01, 0.04, step=0.01)\n",
    "        time_limit = 60 * 60 * 12  # 12 hours\n",
    "        trailing_stop_activation_price_delta = Decimal(\"0.008\")\n",
    "        trailing_stop_trailing_delta = Decimal(\"0.004\")\n",
    "\n",
    "        length = trial.suggest_int('length', 20, 200, step=20)\n",
    "        multiplier = trial.suggest_float('multiplier', 2.0, 6.0, step=1.0)\n",
    "        percentage_threshold = trial.suggest_float('percentage_threshold', 0.01, 0.03, step=0.01)\n",
    "\n",
    "        # Building the order levels\n",
    "        order_level_builder = OrderLevelBuilder(n_levels=n_levels)\n",
    "        order_levels = order_level_builder.build_order_levels(\n",
    "            amounts=order_amount,\n",
    "            spreads=Decimal(\"0\"),\n",
    "            triple_barrier_confs=TripleBarrierConf(\n",
    "                stop_loss=stop_loss, take_profit=take_profit, time_limit=time_limit,\n",
    "                trailing_stop_activation_price_delta=trailing_stop_activation_price_delta,\n",
    "                trailing_stop_trailing_delta=trailing_stop_trailing_delta),\n",
    "        )\n",
    "        config = SuperTrendConfig(\n",
    "            exchange=exchange,\n",
    "            trading_pair=trading_pair,\n",
    "            strategy_name='supertrend',\n",
    "            candles_config=[\n",
    "                CandlesConfig(connector=exchange, trading_pair=trading_pair,\n",
    "                              interval=interval, max_records=sys.maxsize)\n",
    "            ],\n",
    "            order_levels=order_levels,\n",
    "            leverage=leverage,\n",
    "            position_mode=PositionMode.HEDGE,\n",
    "            length=length,\n",
    "            multiplier=multiplier,\n",
    "            percentage_threshold=percentage_threshold,\n",
    "\n",
    "        )\n",
    "        controller = SuperTrend(config=config)\n",
    "        engine = DirectionalTradingBacktestingEngine(controller=controller)\n",
    "        engine.load_controller_data(\"../../../data/candles\")\n",
    "        backtesting_results = engine.run_backtesting(\n",
    "            initial_portfolio_usd=initial_portfolio_usd,\n",
    "            trade_cost=trade_cost,\n",
    "            start=start, end=end)\n",
    "\n",
    "        strategy_analysis = backtesting_results[\"results\"]\n",
    "        encoder_decoder = ConfigEncoderDecoder(TradeType, OrderType, PositionMode)\n",
    "\n",
    "        trial.set_user_attr(\"net_pnl_quote\", strategy_analysis[\"net_pnl_quote\"])\n",
    "        trial.set_user_attr(\"net_pnl_pct\", strategy_analysis[\"net_pnl\"])\n",
    "        trial.set_user_attr(\"max_drawdown_usd\", strategy_analysis[\"max_drawdown_usd\"])\n",
    "        trial.set_user_attr(\"max_drawdown_pct\", strategy_analysis[\"max_drawdown_pct\"])\n",
    "        trial.set_user_attr(\"sharpe_ratio\", strategy_analysis[\"sharpe_ratio\"])\n",
    "        trial.set_user_attr(\"accuracy\", strategy_analysis[\"accuracy\"])\n",
    "        trial.set_user_attr(\"total_positions\", strategy_analysis[\"total_positions\"])\n",
    "        trial.set_user_attr(\"profit_factor\", strategy_analysis[\"profit_factor\"])\n",
    "        trial.set_user_attr(\"duration_in_hours\", strategy_analysis[\"duration_minutes\"] / 60)\n",
    "        trial.set_user_attr(\"avg_trading_time_in_hours\", strategy_analysis[\"avg_trading_time_minutes\"] / 60)\n",
    "        trial.set_user_attr(\"win_signals\", strategy_analysis[\"win_signals\"])\n",
    "        trial.set_user_attr(\"loss_signals\", strategy_analysis[\"loss_signals\"])\n",
    "        trial.set_user_attr(\"config\", encoder_decoder.encode(config.dict()))\n",
    "        return strategy_analysis[\"net_pnl\"]\n",
    "    except Exception as e:\n",
    "        traceback.print_exc()\n",
    "        raise TrialPruned()\n"
   ],
   "metadata": {
    "collapsed": false
   }
  },
  {
   "cell_type": "code",
   "execution_count": null,
   "outputs": [],
   "source": [
    "import optuna\n",
    "\n",
    "# Now let's configure the parameters for the optimization\n",
    "study_name = \"super_trend_optimization_1\"\n",
    "storage= \"sqlite:///../../../data/backtesting/backtesting_report.db\"\n",
    "\n",
    "study = optuna.create_study(direction=\"maximize\", study_name=study_name,\n",
    "                            storage=storage,\n",
    "                            load_if_exists=True # If the study already exists, we load it\n",
    "                            )"
   ],
   "metadata": {
    "collapsed": false
   }
  },
  {
   "cell_type": "code",
   "execution_count": null,
   "outputs": [],
   "source": [
    "# Not let's run the optimization!\n",
    "\n",
    "n_trials = 200\n",
    "study.optimize(objective, n_trials=n_trials)"
   ],
   "metadata": {
    "collapsed": false
   }
  }
 ],
 "metadata": {
  "kernelspec": {
   "display_name": "Python 3",
   "language": "python",
   "name": "python3"
  },
  "language_info": {
   "codemirror_mode": {
    "name": "ipython",
    "version": 2
   },
   "file_extension": ".py",
   "mimetype": "text/x-python",
   "name": "python",
   "nbconvert_exporter": "python",
   "pygments_lexer": "ipython2",
   "version": "2.7.6"
  }
 },
 "nbformat": 4,
 "nbformat_minor": 0
}
